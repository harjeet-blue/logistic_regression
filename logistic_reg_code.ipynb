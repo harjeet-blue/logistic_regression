{
 "cells": [
  {
   "cell_type": "code",
   "execution_count": null,
   "metadata": {},
   "outputs": [],
   "source": [
    "#*********** HARJEET SINGH YADAV ****************\n",
    "#*********** ROLL NO:- 2020561 ******************\n",
    "#*********** IIS ASSIGNMENT 2 *******************\n",
    "#*********** LOGISTICS REGRESSION ***************"
   ]
  },
  {
   "cell_type": "code",
   "execution_count": 1,
   "metadata": {},
   "outputs": [],
   "source": [
    "# important libraries for the models\n",
    "import os \n",
    "import numpy as np \n",
    "import pandas as pd\n",
    "from matplotlib import pyplot as plt\n",
    "import seaborn as sns\n",
    "from sklearn.linear_model import LinearRegression\n",
    "from sklearn.linear_model import LogisticRegression\n",
    "from sklearn.tree import DecisionTreeClassifier\n",
    "from sklearn.model_selection import train_test_split\n",
    "from sklearn.metrics import r2_score, explained_variance_score, confusion_matrix, accuracy_score, classification_report"
   ]
  },
  {
   "cell_type": "code",
   "execution_count": 2,
   "metadata": {},
   "outputs": [
    {
     "data": {
      "text/html": [
       "<div>\n",
       "<style scoped>\n",
       "    .dataframe tbody tr th:only-of-type {\n",
       "        vertical-align: middle;\n",
       "    }\n",
       "\n",
       "    .dataframe tbody tr th {\n",
       "        vertical-align: top;\n",
       "    }\n",
       "\n",
       "    .dataframe thead th {\n",
       "        text-align: right;\n",
       "    }\n",
       "</style>\n",
       "<table border=\"1\" class=\"dataframe\">\n",
       "  <thead>\n",
       "    <tr style=\"text-align: right;\">\n",
       "      <th></th>\n",
       "      <th>ID</th>\n",
       "      <th>Gender</th>\n",
       "      <th>DOB</th>\n",
       "      <th>10percentage</th>\n",
       "      <th>10board</th>\n",
       "      <th>12graduation</th>\n",
       "      <th>12percentage</th>\n",
       "      <th>12board</th>\n",
       "      <th>CollegeID</th>\n",
       "      <th>CollegeTier</th>\n",
       "      <th>...</th>\n",
       "      <th>MechanicalEngg</th>\n",
       "      <th>ElectricalEngg</th>\n",
       "      <th>TelecomEngg</th>\n",
       "      <th>CivilEngg</th>\n",
       "      <th>conscientiousness</th>\n",
       "      <th>agreeableness</th>\n",
       "      <th>extraversion</th>\n",
       "      <th>nueroticism</th>\n",
       "      <th>openess_to_experience</th>\n",
       "      <th>High-Salary</th>\n",
       "    </tr>\n",
       "  </thead>\n",
       "  <tbody>\n",
       "    <tr>\n",
       "      <th>0</th>\n",
       "      <td>203097</td>\n",
       "      <td>f</td>\n",
       "      <td>1990-02-19</td>\n",
       "      <td>84.3</td>\n",
       "      <td>board ofsecondary education,ap</td>\n",
       "      <td>2007</td>\n",
       "      <td>95.8</td>\n",
       "      <td>board of intermediate education,ap</td>\n",
       "      <td>1141</td>\n",
       "      <td>2</td>\n",
       "      <td>...</td>\n",
       "      <td>-1</td>\n",
       "      <td>-1</td>\n",
       "      <td>-1</td>\n",
       "      <td>-1</td>\n",
       "      <td>0.9737</td>\n",
       "      <td>0.8128</td>\n",
       "      <td>0.5269</td>\n",
       "      <td>1.35490</td>\n",
       "      <td>-0.4455</td>\n",
       "      <td>1</td>\n",
       "    </tr>\n",
       "    <tr>\n",
       "      <th>1</th>\n",
       "      <td>579905</td>\n",
       "      <td>m</td>\n",
       "      <td>1989-10-04</td>\n",
       "      <td>85.4</td>\n",
       "      <td>cbse</td>\n",
       "      <td>2007</td>\n",
       "      <td>85.0</td>\n",
       "      <td>cbse</td>\n",
       "      <td>5807</td>\n",
       "      <td>2</td>\n",
       "      <td>...</td>\n",
       "      <td>-1</td>\n",
       "      <td>-1</td>\n",
       "      <td>-1</td>\n",
       "      <td>-1</td>\n",
       "      <td>-0.7335</td>\n",
       "      <td>0.3789</td>\n",
       "      <td>1.2396</td>\n",
       "      <td>-0.10760</td>\n",
       "      <td>0.8637</td>\n",
       "      <td>1</td>\n",
       "    </tr>\n",
       "    <tr>\n",
       "      <th>2</th>\n",
       "      <td>810601</td>\n",
       "      <td>f</td>\n",
       "      <td>1992-08-03</td>\n",
       "      <td>85.0</td>\n",
       "      <td>cbse</td>\n",
       "      <td>2010</td>\n",
       "      <td>68.2</td>\n",
       "      <td>cbse</td>\n",
       "      <td>64</td>\n",
       "      <td>2</td>\n",
       "      <td>...</td>\n",
       "      <td>-1</td>\n",
       "      <td>-1</td>\n",
       "      <td>-1</td>\n",
       "      <td>-1</td>\n",
       "      <td>0.2718</td>\n",
       "      <td>1.7109</td>\n",
       "      <td>0.1637</td>\n",
       "      <td>-0.86820</td>\n",
       "      <td>0.6721</td>\n",
       "      <td>1</td>\n",
       "    </tr>\n",
       "    <tr>\n",
       "      <th>3</th>\n",
       "      <td>267447</td>\n",
       "      <td>m</td>\n",
       "      <td>1989-12-05</td>\n",
       "      <td>85.6</td>\n",
       "      <td>cbse</td>\n",
       "      <td>2007</td>\n",
       "      <td>83.6</td>\n",
       "      <td>cbse</td>\n",
       "      <td>6920</td>\n",
       "      <td>1</td>\n",
       "      <td>...</td>\n",
       "      <td>-1</td>\n",
       "      <td>-1</td>\n",
       "      <td>-1</td>\n",
       "      <td>-1</td>\n",
       "      <td>0.0464</td>\n",
       "      <td>0.3448</td>\n",
       "      <td>-0.3440</td>\n",
       "      <td>-0.40780</td>\n",
       "      <td>-0.9194</td>\n",
       "      <td>1</td>\n",
       "    </tr>\n",
       "    <tr>\n",
       "      <th>4</th>\n",
       "      <td>343523</td>\n",
       "      <td>m</td>\n",
       "      <td>1991-02-27</td>\n",
       "      <td>78.0</td>\n",
       "      <td>cbse</td>\n",
       "      <td>2008</td>\n",
       "      <td>76.8</td>\n",
       "      <td>cbse</td>\n",
       "      <td>11368</td>\n",
       "      <td>2</td>\n",
       "      <td>...</td>\n",
       "      <td>-1</td>\n",
       "      <td>-1</td>\n",
       "      <td>-1</td>\n",
       "      <td>-1</td>\n",
       "      <td>-0.8810</td>\n",
       "      <td>-0.2793</td>\n",
       "      <td>-1.0697</td>\n",
       "      <td>0.09163</td>\n",
       "      <td>-0.1295</td>\n",
       "      <td>0</td>\n",
       "    </tr>\n",
       "  </tbody>\n",
       "</table>\n",
       "<p>5 rows × 34 columns</p>\n",
       "</div>"
      ],
      "text/plain": [
       "       ID Gender        DOB  10percentage                         10board  \\\n",
       "0  203097      f 1990-02-19          84.3  board ofsecondary education,ap   \n",
       "1  579905      m 1989-10-04          85.4                            cbse   \n",
       "2  810601      f 1992-08-03          85.0                            cbse   \n",
       "3  267447      m 1989-12-05          85.6                            cbse   \n",
       "4  343523      m 1991-02-27          78.0                            cbse   \n",
       "\n",
       "   12graduation  12percentage                             12board  CollegeID  \\\n",
       "0          2007          95.8  board of intermediate education,ap       1141   \n",
       "1          2007          85.0                                cbse       5807   \n",
       "2          2010          68.2                                cbse         64   \n",
       "3          2007          83.6                                cbse       6920   \n",
       "4          2008          76.8                                cbse      11368   \n",
       "\n",
       "   CollegeTier  ... MechanicalEngg ElectricalEngg  TelecomEngg  CivilEngg  \\\n",
       "0            2  ...             -1             -1           -1         -1   \n",
       "1            2  ...             -1             -1           -1         -1   \n",
       "2            2  ...             -1             -1           -1         -1   \n",
       "3            1  ...             -1             -1           -1         -1   \n",
       "4            2  ...             -1             -1           -1         -1   \n",
       "\n",
       "   conscientiousness agreeableness  extraversion  nueroticism  \\\n",
       "0             0.9737        0.8128        0.5269      1.35490   \n",
       "1            -0.7335        0.3789        1.2396     -0.10760   \n",
       "2             0.2718        1.7109        0.1637     -0.86820   \n",
       "3             0.0464        0.3448       -0.3440     -0.40780   \n",
       "4            -0.8810       -0.2793       -1.0697      0.09163   \n",
       "\n",
       "   openess_to_experience  High-Salary  \n",
       "0                -0.4455            1  \n",
       "1                 0.8637            1  \n",
       "2                 0.6721            1  \n",
       "3                -0.9194            1  \n",
       "4                -0.1295            0  \n",
       "\n",
       "[5 rows x 34 columns]"
      ]
     },
     "execution_count": 2,
     "metadata": {},
     "output_type": "execute_result"
    }
   ],
   "source": [
    "# fetching the data tables form system\n",
    "data = pd.read_excel(r\"C:\\Users\\Harjeet\\Downloads\\Data for IIS-Lab Assignment.xlsx\")\n",
    "data.head(5)"
   ]
  },
  {
   "cell_type": "code",
   "execution_count": 3,
   "metadata": {},
   "outputs": [
    {
     "name": "stdout",
     "output_type": "stream",
     "text": [
      "(3998, 34)\n"
     ]
    }
   ],
   "source": [
    "print(data.shape)"
   ]
  },
  {
   "cell_type": "code",
   "execution_count": 4,
   "metadata": {},
   "outputs": [
    {
     "data": {
      "text/plain": [
       "<AxesSubplot:xlabel='High-Salary', ylabel='count'>"
      ]
     },
     "execution_count": 4,
     "metadata": {},
     "output_type": "execute_result"
    },
    {
     "data": {
      "image/png": "[encoded data removed]",
      "text/plain": [
       "<Figure size 432x288 with 1 Axes>"
      ]
     },
     "metadata": {
      "needs_background": "light"
     },
     "output_type": "display_data"
    }
   ],
   "source": [
    "sns.countplot(x = 'High-Salary', data = data, palette = 'Set1')\n",
    "#this is to check wheather our data set is balanced or not i.e equal distribution of 0 and 1"
   ]
  },
  {
   "cell_type": "code",
   "execution_count": 5,
   "metadata": {},
   "outputs": [
    {
     "data": {
      "image/png": "[encoded data removed]",
      "text/plain": [
       "<Figure size 432x288 with 1 Axes>"
      ]
     },
     "metadata": {
      "needs_background": "light"
     },
     "output_type": "display_data"
    }
   ],
   "source": [
    "sns.countplot(x = 'Gender' , data =data, palette = 'Set1', hue ='High-Salary')\n",
    "plt.show()"
   ]
  },
  {
   "cell_type": "code",
   "execution_count": 6,
   "metadata": {},
   "outputs": [
    {
     "data": {
      "image/png": "[encoded data removed]",
      "text/plain": [
       "<Figure size 432x288 with 1 Axes>"
      ]
     },
     "metadata": {
      "needs_background": "light"
     },
     "output_type": "display_data"
    }
   ],
   "source": [
    "sns.countplot(x = 'Degree' , data =data, palette = 'Set1', hue ='High-Salary')\n",
    "plt.show()"
   ]
  },
  {
   "cell_type": "code",
   "execution_count": 7,
   "metadata": {},
   "outputs": [
    {
     "data": {
      "image/png": "[encoded data removed]",
      "text/plain": [
       "<Figure size 432x288 with 1 Axes>"
      ]
     },
     "metadata": {
      "needs_background": "light"
     },
     "output_type": "display_data"
    }
   ],
   "source": [
    "sns.countplot(x = 'Specialization' , data =data, palette = 'Set1', hue ='High-Salary')\n",
    "plt.show()"
   ]
  },
  {
   "cell_type": "code",
   "execution_count": 8,
   "metadata": {},
   "outputs": [
    {
     "data": {
      "image/png": "[encoded data removed]",
      "text/plain": [
       "<Figure size 432x288 with 1 Axes>"
      ]
     },
     "metadata": {
      "needs_background": "light"
     },
     "output_type": "display_data"
    }
   ],
   "source": [
    "sns.countplot(x = 'CollegeState' , data =data, palette = 'Set1', hue ='High-Salary')\n",
    "plt.show()"
   ]
  },
  {
   "cell_type": "code",
   "execution_count": 9,
   "metadata": {},
   "outputs": [
    {
     "data": {
      "image/png": "[encoded data removed]",
      "text/plain": [
       "<Figure size 432x288 with 1 Axes>"
      ]
     },
     "metadata": {
      "needs_background": "light"
     },
     "output_type": "display_data"
    }
   ],
   "source": [
    "sns.countplot(x = '12board' , data =data, palette = 'Set1', hue ='High-Salary')\n",
    "plt.show()"
   ]
  },
  {
   "cell_type": "code",
   "execution_count": 10,
   "metadata": {},
   "outputs": [
    {
     "data": {
      "image/png": "[encoded data removed]",
      "text/plain": [
       "<Figure size 432x288 with 1 Axes>"
      ]
     },
     "metadata": {
      "needs_background": "light"
     },
     "output_type": "display_data"
    }
   ],
   "source": [
    "sns.countplot(x = 'CollegeTier' , data =data, palette = 'Set1', hue ='High-Salary')\n",
    "plt.show()"
   ]
  },
  {
   "cell_type": "code",
   "execution_count": 11,
   "metadata": {},
   "outputs": [
    {
     "data": {
      "image/png": "[encoded data removed]",
      "text/plain": [
       "<Figure size 432x288 with 1 Axes>"
      ]
     },
     "metadata": {
      "needs_background": "light"
     },
     "output_type": "display_data"
    }
   ],
   "source": [
    "sns.countplot(x = 'CollegeCityTier' , data =data, palette = 'Set1', hue ='High-Salary')\n",
    "plt.show()"
   ]
  },
  {
   "cell_type": "code",
   "execution_count": 12,
   "metadata": {},
   "outputs": [
    {
     "data": {
      "image/png": "[encoded data removed]",
      "text/plain": [
       "<Figure size 432x288 with 1 Axes>"
      ]
     },
     "metadata": {
      "needs_background": "light"
     },
     "output_type": "display_data"
    }
   ],
   "source": [
    "sns.countplot(x = '10board' , data =data, palette = 'Set1', hue ='High-Salary')\n",
    "plt.show()"
   ]
  },
  {
   "cell_type": "code",
   "execution_count": 13,
   "metadata": {},
   "outputs": [],
   "source": [
    "#dropping the irrelevent comlumns for the table\n",
    "data=data.drop(columns=['ID','DOB','CollegeID','CollegeCityID','10board','12board','12graduation','CollegeState'])"
   ]
  },
  {
   "cell_type": "code",
   "execution_count": 14,
   "metadata": {},
   "outputs": [
    {
     "data": {
      "text/plain": [
       "Index(['Gender', '10percentage', '12percentage', 'CollegeTier', 'Degree',\n",
       "       'Specialization', 'collegeGPA', 'CollegeCityTier', 'GraduationYear',\n",
       "       'English', 'Logical', 'Quant', 'Domain', 'ComputerProgramming',\n",
       "       'ElectronicsAndSemicon', 'ComputerScience', 'MechanicalEngg',\n",
       "       'ElectricalEngg', 'TelecomEngg', 'CivilEngg', 'conscientiousness',\n",
       "       'agreeableness', 'extraversion', 'nueroticism', 'openess_to_experience',\n",
       "       'High-Salary'],\n",
       "      dtype='object')"
      ]
     },
     "execution_count": 14,
     "metadata": {},
     "output_type": "execute_result"
    }
   ],
   "source": [
    "data.columns"
   ]
  },
  {
   "cell_type": "code",
   "execution_count": 15,
   "metadata": {},
   "outputs": [],
   "source": [
    "#converting the string feature into numerical features\n",
    "string_features=[ 'Degree','Gender','Specialization']\n",
    "new_data = pd.get_dummies(data, columns = string_features)"
   ]
  },
  {
   "cell_type": "code",
   "execution_count": 16,
   "metadata": {},
   "outputs": [
    {
     "data": {
      "text/html": [
       "<div>\n",
       "<style scoped>\n",
       "    .dataframe tbody tr th:only-of-type {\n",
       "        vertical-align: middle;\n",
       "    }\n",
       "\n",
       "    .dataframe tbody tr th {\n",
       "        vertical-align: top;\n",
       "    }\n",
       "\n",
       "    .dataframe thead th {\n",
       "        text-align: right;\n",
       "    }\n",
       "</style>\n",
       "<table border=\"1\" class=\"dataframe\">\n",
       "  <thead>\n",
       "    <tr style=\"text-align: right;\">\n",
       "      <th></th>\n",
       "      <th>10percentage</th>\n",
       "      <th>12percentage</th>\n",
       "      <th>CollegeTier</th>\n",
       "      <th>collegeGPA</th>\n",
       "      <th>CollegeCityTier</th>\n",
       "      <th>GraduationYear</th>\n",
       "      <th>English</th>\n",
       "      <th>Logical</th>\n",
       "      <th>Quant</th>\n",
       "      <th>Domain</th>\n",
       "      <th>...</th>\n",
       "      <th>Specialization_internal combustion engine</th>\n",
       "      <th>Specialization_mechanical &amp; production engineering</th>\n",
       "      <th>Specialization_mechanical and automation</th>\n",
       "      <th>Specialization_mechanical engineering</th>\n",
       "      <th>Specialization_mechatronics</th>\n",
       "      <th>Specialization_metallurgical engineering</th>\n",
       "      <th>Specialization_other</th>\n",
       "      <th>Specialization_polymer technology</th>\n",
       "      <th>Specialization_power systems and automation</th>\n",
       "      <th>Specialization_telecommunication engineering</th>\n",
       "    </tr>\n",
       "  </thead>\n",
       "  <tbody>\n",
       "    <tr>\n",
       "      <th>0</th>\n",
       "      <td>84.3</td>\n",
       "      <td>95.8</td>\n",
       "      <td>2</td>\n",
       "      <td>78.00</td>\n",
       "      <td>0</td>\n",
       "      <td>2011</td>\n",
       "      <td>515</td>\n",
       "      <td>585</td>\n",
       "      <td>525</td>\n",
       "      <td>0.635979</td>\n",
       "      <td>...</td>\n",
       "      <td>0</td>\n",
       "      <td>0</td>\n",
       "      <td>0</td>\n",
       "      <td>0</td>\n",
       "      <td>0</td>\n",
       "      <td>0</td>\n",
       "      <td>0</td>\n",
       "      <td>0</td>\n",
       "      <td>0</td>\n",
       "      <td>0</td>\n",
       "    </tr>\n",
       "    <tr>\n",
       "      <th>1</th>\n",
       "      <td>85.4</td>\n",
       "      <td>85.0</td>\n",
       "      <td>2</td>\n",
       "      <td>70.06</td>\n",
       "      <td>0</td>\n",
       "      <td>2012</td>\n",
       "      <td>695</td>\n",
       "      <td>610</td>\n",
       "      <td>780</td>\n",
       "      <td>0.960603</td>\n",
       "      <td>...</td>\n",
       "      <td>0</td>\n",
       "      <td>0</td>\n",
       "      <td>0</td>\n",
       "      <td>0</td>\n",
       "      <td>0</td>\n",
       "      <td>0</td>\n",
       "      <td>0</td>\n",
       "      <td>0</td>\n",
       "      <td>0</td>\n",
       "      <td>0</td>\n",
       "    </tr>\n",
       "    <tr>\n",
       "      <th>2</th>\n",
       "      <td>85.0</td>\n",
       "      <td>68.2</td>\n",
       "      <td>2</td>\n",
       "      <td>70.00</td>\n",
       "      <td>0</td>\n",
       "      <td>2014</td>\n",
       "      <td>615</td>\n",
       "      <td>545</td>\n",
       "      <td>370</td>\n",
       "      <td>0.450877</td>\n",
       "      <td>...</td>\n",
       "      <td>0</td>\n",
       "      <td>0</td>\n",
       "      <td>0</td>\n",
       "      <td>0</td>\n",
       "      <td>0</td>\n",
       "      <td>0</td>\n",
       "      <td>0</td>\n",
       "      <td>0</td>\n",
       "      <td>0</td>\n",
       "      <td>0</td>\n",
       "    </tr>\n",
       "    <tr>\n",
       "      <th>3</th>\n",
       "      <td>85.6</td>\n",
       "      <td>83.6</td>\n",
       "      <td>1</td>\n",
       "      <td>74.64</td>\n",
       "      <td>1</td>\n",
       "      <td>2011</td>\n",
       "      <td>635</td>\n",
       "      <td>585</td>\n",
       "      <td>625</td>\n",
       "      <td>0.974396</td>\n",
       "      <td>...</td>\n",
       "      <td>0</td>\n",
       "      <td>0</td>\n",
       "      <td>0</td>\n",
       "      <td>0</td>\n",
       "      <td>0</td>\n",
       "      <td>0</td>\n",
       "      <td>0</td>\n",
       "      <td>0</td>\n",
       "      <td>0</td>\n",
       "      <td>0</td>\n",
       "    </tr>\n",
       "    <tr>\n",
       "      <th>4</th>\n",
       "      <td>78.0</td>\n",
       "      <td>76.8</td>\n",
       "      <td>2</td>\n",
       "      <td>73.90</td>\n",
       "      <td>0</td>\n",
       "      <td>2012</td>\n",
       "      <td>545</td>\n",
       "      <td>625</td>\n",
       "      <td>465</td>\n",
       "      <td>0.124502</td>\n",
       "      <td>...</td>\n",
       "      <td>0</td>\n",
       "      <td>0</td>\n",
       "      <td>0</td>\n",
       "      <td>0</td>\n",
       "      <td>0</td>\n",
       "      <td>0</td>\n",
       "      <td>0</td>\n",
       "      <td>0</td>\n",
       "      <td>0</td>\n",
       "      <td>0</td>\n",
       "    </tr>\n",
       "  </tbody>\n",
       "</table>\n",
       "<p>5 rows × 75 columns</p>\n",
       "</div>"
      ],
      "text/plain": [
       "   10percentage  12percentage  CollegeTier  collegeGPA  CollegeCityTier  \\\n",
       "0          84.3          95.8            2       78.00                0   \n",
       "1          85.4          85.0            2       70.06                0   \n",
       "2          85.0          68.2            2       70.00                0   \n",
       "3          85.6          83.6            1       74.64                1   \n",
       "4          78.0          76.8            2       73.90                0   \n",
       "\n",
       "   GraduationYear  English  Logical  Quant    Domain  ...  \\\n",
       "0            2011      515      585    525  0.635979  ...   \n",
       "1            2012      695      610    780  0.960603  ...   \n",
       "2            2014      615      545    370  0.450877  ...   \n",
       "3            2011      635      585    625  0.974396  ...   \n",
       "4            2012      545      625    465  0.124502  ...   \n",
       "\n",
       "   Specialization_internal combustion engine  \\\n",
       "0                                          0   \n",
       "1                                          0   \n",
       "2                                          0   \n",
       "3                                          0   \n",
       "4                                          0   \n",
       "\n",
       "   Specialization_mechanical & production engineering  \\\n",
       "0                                                  0    \n",
       "1                                                  0    \n",
       "2                                                  0    \n",
       "3                                                  0    \n",
       "4                                                  0    \n",
       "\n",
       "   Specialization_mechanical and automation  \\\n",
       "0                                         0   \n",
       "1                                         0   \n",
       "2                                         0   \n",
       "3                                         0   \n",
       "4                                         0   \n",
       "\n",
       "   Specialization_mechanical engineering  Specialization_mechatronics  \\\n",
       "0                                      0                            0   \n",
       "1                                      0                            0   \n",
       "2                                      0                            0   \n",
       "3                                      0                            0   \n",
       "4                                      0                            0   \n",
       "\n",
       "   Specialization_metallurgical engineering  Specialization_other  \\\n",
       "0                                         0                     0   \n",
       "1                                         0                     0   \n",
       "2                                         0                     0   \n",
       "3                                         0                     0   \n",
       "4                                         0                     0   \n",
       "\n",
       "   Specialization_polymer technology  \\\n",
       "0                                  0   \n",
       "1                                  0   \n",
       "2                                  0   \n",
       "3                                  0   \n",
       "4                                  0   \n",
       "\n",
       "   Specialization_power systems and automation  \\\n",
       "0                                            0   \n",
       "1                                            0   \n",
       "2                                            0   \n",
       "3                                            0   \n",
       "4                                            0   \n",
       "\n",
       "   Specialization_telecommunication engineering  \n",
       "0                                             0  \n",
       "1                                             0  \n",
       "2                                             0  \n",
       "3                                             0  \n",
       "4                                             0  \n",
       "\n",
       "[5 rows x 75 columns]"
      ]
     },
     "execution_count": 16,
     "metadata": {},
     "output_type": "execute_result"
    }
   ],
   "source": [
    "new_data.head()"
   ]
  },
  {
   "cell_type": "code",
   "execution_count": 17,
   "metadata": {},
   "outputs": [
    {
     "name": "stdout",
     "output_type": "stream",
     "text": [
      "(3998, 75)\n"
     ]
    }
   ],
   "source": [
    "print(new_data.shape)"
   ]
  },
  {
   "cell_type": "code",
   "execution_count": 18,
   "metadata": {
    "scrolled": true
   },
   "outputs": [],
   "source": [
    "#splitting data in X and Y\n",
    "X=new_data.drop('High-Salary',axis=1).values\n",
    "Y=new_data['High-Salary']"
   ]
  },
  {
   "cell_type": "code",
   "execution_count": 19,
   "metadata": {},
   "outputs": [
    {
     "name": "stdout",
     "output_type": "stream",
     "text": [
      "(3998, 74)\n",
      "(3998,)\n"
     ]
    }
   ],
   "source": [
    "print(X.shape)\n",
    "print(Y.shape)"
   ]
  },
  {
   "cell_type": "code",
   "execution_count": 20,
   "metadata": {},
   "outputs": [
    {
     "data": {
      "text/plain": [
       "DecisionTreeClassifier(criterion='entropy', max_depth=20, random_state=20)"
      ]
     },
     "execution_count": 20,
     "metadata": {},
     "output_type": "execute_result"
    }
   ],
   "source": [
    "#decision classifier for chechking the impotance for each fearture into the logical regression model\n",
    "decision_tree = DecisionTreeClassifier(random_state=20, criterion = 'entropy', max_depth = 20)\n",
    "decision_tree.fit(X,Y)"
   ]
  },
  {
   "cell_type": "code",
   "execution_count": 21,
   "metadata": {},
   "outputs": [
    {
     "name": "stdout",
     "output_type": "stream",
     "text": [
      "The feature importance of 10percentage is 0.10391801217239643\n",
      "The feature importance of 12percentage is 0.06040360327478826\n",
      "The feature importance of CollegeTier is 0.00877443952883037\n",
      "The feature importance of collegeGPA is 0.0867244333857451\n",
      "The feature importance of CollegeCityTier is 0.006639616785000923\n",
      "The feature importance of GraduationYear is 0.035996088067742224\n",
      "The feature importance of English is 0.07887403203893938\n",
      "The feature importance of Logical is 0.056470536780861065\n",
      "The feature importance of Quant is 0.13576210809471703\n",
      "The feature importance of Domain is 0.04243050144463206\n",
      "The feature importance of ComputerProgramming is 0.054522704578182535\n",
      "The feature importance of ElectronicsAndSemicon is 0.006889356943992598\n",
      "The feature importance of ComputerScience is 0.009135395835243015\n",
      "The feature importance of MechanicalEngg is 0.004322948284507776\n",
      "The feature importance of ElectricalEngg is 0.006594768426701754\n",
      "The feature importance of TelecomEngg is 0.008849380542721818\n",
      "The feature importance of CivilEngg is 0.0\n",
      "The feature importance of conscientiousness is 0.048303800881933937\n",
      "The feature importance of agreeableness is 0.05011427582458272\n",
      "The feature importance of extraversion is 0.04109216148369459\n",
      "The feature importance of nueroticism is 0.05207795404226013\n",
      "The feature importance of openess_to_experience is 0.05468633480879253\n",
      "The feature importance of Degree_B.Tech/B.E. is 0.0033841895723397968\n",
      "The feature importance of Degree_M.Sc. (Tech.) is 0.0\n",
      "The feature importance of Degree_M.Tech./M.E. is 0.0009502876298626139\n",
      "The feature importance of Degree_MCA is 0.0\n",
      "The feature importance of Gender_f is 0.0022767604836781306\n",
      "The feature importance of Gender_m is 0.002146329370437294\n",
      "The feature importance of Specialization_aeronautical engineering is 0.0\n",
      "The feature importance of Specialization_applied electronics and instrumentation is 0.0\n",
      "The feature importance of Specialization_automobile/automotive engineering is 0.0\n",
      "The feature importance of Specialization_biomedical engineering is 0.0\n",
      "The feature importance of Specialization_biotechnology is 0.0\n",
      "The feature importance of Specialization_ceramic engineering is 0.0\n",
      "The feature importance of Specialization_chemical engineering is 0.0\n",
      "The feature importance of Specialization_civil engineering is 0.002134612452309568\n",
      "The feature importance of Specialization_computer and communication engineering is 0.0\n",
      "The feature importance of Specialization_computer application is 0.0023262489948266255\n",
      "The feature importance of Specialization_computer engineering is 0.01044418685609563\n",
      "The feature importance of Specialization_computer networking is 0.0\n",
      "The feature importance of Specialization_computer science is 0.0\n",
      "The feature importance of Specialization_computer science & engineering is 0.009003645604535263\n",
      "The feature importance of Specialization_computer science and technology is 0.0\n",
      "The feature importance of Specialization_control and instrumentation engineering is 0.0\n",
      "The feature importance of Specialization_electrical and power engineering is 0.0\n",
      "The feature importance of Specialization_electrical engineering is 0.0\n",
      "The feature importance of Specialization_electronics is 0.0\n",
      "The feature importance of Specialization_electronics & instrumentation eng is 0.0013061205888532227\n",
      "The feature importance of Specialization_electronics & telecommunications is 0.0010096009861206158\n",
      "The feature importance of Specialization_electronics and communication engineering is 0.005953108736062358\n",
      "The feature importance of Specialization_electronics and computer engineering is 0.0\n",
      "The feature importance of Specialization_electronics and electrical engineering is 0.0\n",
      "The feature importance of Specialization_electronics and instrumentation engineering is 0.001470926974114277\n",
      "The feature importance of Specialization_electronics engineering is 0.0\n",
      "The feature importance of Specialization_embedded systems technology is 0.0\n",
      "The feature importance of Specialization_industrial & management engineering is 0.0\n",
      "The feature importance of Specialization_industrial & production engineering is 0.0\n",
      "The feature importance of Specialization_industrial engineering is 0.0\n",
      "The feature importance of Specialization_information & communication technology is 0.0\n",
      "The feature importance of Specialization_information science is 0.0\n",
      "The feature importance of Specialization_information science engineering is 0.0\n",
      "The feature importance of Specialization_information technology is 0.002825693470460452\n",
      "The feature importance of Specialization_instrumentation and control engineering is 0.0\n",
      "The feature importance of Specialization_instrumentation engineering is 0.0\n",
      "The feature importance of Specialization_internal combustion engine is 0.0\n",
      "The feature importance of Specialization_mechanical & production engineering is 0.0\n",
      "The feature importance of Specialization_mechanical and automation is 0.0\n",
      "The feature importance of Specialization_mechanical engineering is 0.0021858350540378668\n",
      "The feature importance of Specialization_mechatronics is 0.0\n",
      "The feature importance of Specialization_metallurgical engineering is 0.0\n",
      "The feature importance of Specialization_other is 0.0\n",
      "The feature importance of Specialization_polymer technology is 0.0\n",
      "The feature importance of Specialization_power systems and automation is 0.0\n",
      "The feature importance of Specialization_telecommunication engineering is 0.0\n"
     ]
    }
   ],
   "source": [
    "#printing the corresponding importance \n",
    "for i,col in enumerate(new_data.drop('High-Salary',axis=1)):\n",
    "    print(\"The feature importance of\",col,\"is\",decision_tree.feature_importances_[i],sep=' ')"
   ]
  },
  {
   "cell_type": "code",
   "execution_count": 22,
   "metadata": {},
   "outputs": [
    {
     "data": {
      "text/html": [
       "<div>\n",
       "<style scoped>\n",
       "    .dataframe tbody tr th:only-of-type {\n",
       "        vertical-align: middle;\n",
       "    }\n",
       "\n",
       "    .dataframe tbody tr th {\n",
       "        vertical-align: top;\n",
       "    }\n",
       "\n",
       "    .dataframe thead th {\n",
       "        text-align: right;\n",
       "    }\n",
       "</style>\n",
       "<table border=\"1\" class=\"dataframe\">\n",
       "  <thead>\n",
       "    <tr style=\"text-align: right;\">\n",
       "      <th></th>\n",
       "      <th>index</th>\n",
       "      <th>Feature</th>\n",
       "      <th>Feature Importance</th>\n",
       "    </tr>\n",
       "  </thead>\n",
       "  <tbody>\n",
       "    <tr>\n",
       "      <th>0</th>\n",
       "      <td>8</td>\n",
       "      <td>Quant</td>\n",
       "      <td>0.135762</td>\n",
       "    </tr>\n",
       "    <tr>\n",
       "      <th>1</th>\n",
       "      <td>0</td>\n",
       "      <td>10percentage</td>\n",
       "      <td>0.103918</td>\n",
       "    </tr>\n",
       "    <tr>\n",
       "      <th>2</th>\n",
       "      <td>3</td>\n",
       "      <td>collegeGPA</td>\n",
       "      <td>0.086724</td>\n",
       "    </tr>\n",
       "    <tr>\n",
       "      <th>3</th>\n",
       "      <td>6</td>\n",
       "      <td>English</td>\n",
       "      <td>0.078874</td>\n",
       "    </tr>\n",
       "    <tr>\n",
       "      <th>4</th>\n",
       "      <td>1</td>\n",
       "      <td>12percentage</td>\n",
       "      <td>0.060404</td>\n",
       "    </tr>\n",
       "    <tr>\n",
       "      <th>...</th>\n",
       "      <td>...</td>\n",
       "      <td>...</td>\n",
       "      <td>...</td>\n",
       "    </tr>\n",
       "    <tr>\n",
       "      <th>69</th>\n",
       "      <td>45</td>\n",
       "      <td>Specialization_electrical engineering</td>\n",
       "      <td>0.000000</td>\n",
       "    </tr>\n",
       "    <tr>\n",
       "      <th>70</th>\n",
       "      <td>46</td>\n",
       "      <td>Specialization_electronics</td>\n",
       "      <td>0.000000</td>\n",
       "    </tr>\n",
       "    <tr>\n",
       "      <th>71</th>\n",
       "      <td>23</td>\n",
       "      <td>Degree_M.Sc. (Tech.)</td>\n",
       "      <td>0.000000</td>\n",
       "    </tr>\n",
       "    <tr>\n",
       "      <th>72</th>\n",
       "      <td>28</td>\n",
       "      <td>Specialization_aeronautical engineering</td>\n",
       "      <td>0.000000</td>\n",
       "    </tr>\n",
       "    <tr>\n",
       "      <th>73</th>\n",
       "      <td>73</td>\n",
       "      <td>Specialization_telecommunication engineering</td>\n",
       "      <td>0.000000</td>\n",
       "    </tr>\n",
       "  </tbody>\n",
       "</table>\n",
       "<p>74 rows × 3 columns</p>\n",
       "</div>"
      ],
      "text/plain": [
       "    index                                       Feature  Feature Importance\n",
       "0       8                                         Quant            0.135762\n",
       "1       0                                  10percentage            0.103918\n",
       "2       3                                    collegeGPA            0.086724\n",
       "3       6                                       English            0.078874\n",
       "4       1                                  12percentage            0.060404\n",
       "..    ...                                           ...                 ...\n",
       "69     45         Specialization_electrical engineering            0.000000\n",
       "70     46                    Specialization_electronics            0.000000\n",
       "71     23                          Degree_M.Sc. (Tech.)            0.000000\n",
       "72     28       Specialization_aeronautical engineering            0.000000\n",
       "73     73  Specialization_telecommunication engineering            0.000000\n",
       "\n",
       "[74 rows x 3 columns]"
      ]
     },
     "execution_count": 22,
     "metadata": {},
     "output_type": "execute_result"
    }
   ],
   "source": [
    "#printing the corresponidng data frames\n",
    "f_imp_col = []\n",
    "f_imp = []\n",
    "\n",
    "for i,col in enumerate(new_data.drop('High-Salary',axis=1)):\n",
    "    f_imp_col.append(col)\n",
    "    f_imp.append(decision_tree.feature_importances_[i])\n",
    "\n",
    "fi_df = zip(f_imp_col, f_imp)\n",
    "fi_df = pd.DataFrame(fi_df, columns = ['Feature','Feature Importance'])\n",
    "fi_df\n",
    "\n",
    "# Ordering the data\n",
    "fi_df = fi_df.sort_values('Feature Importance', ascending = False).reset_index()\n",
    "\n",
    "fi_df"
   ]
  },
  {
   "cell_type": "code",
   "execution_count": 23,
   "metadata": {},
   "outputs": [],
   "source": [
    "#choosing the important features whose impotance in not 0\n",
    "imp_features=[]\n",
    "for i,col in enumerate(new_data.drop('High-Salary',axis=1)):\n",
    "    if(decision_tree.feature_importances_[i]!=0):\n",
    "        imp_features.append(col)"
   ]
  },
  {
   "cell_type": "code",
   "execution_count": 24,
   "metadata": {},
   "outputs": [
    {
     "data": {
      "text/plain": [
       "['10percentage',\n",
       " '12percentage',\n",
       " 'CollegeTier',\n",
       " 'collegeGPA',\n",
       " 'CollegeCityTier',\n",
       " 'GraduationYear',\n",
       " 'English',\n",
       " 'Logical',\n",
       " 'Quant',\n",
       " 'Domain',\n",
       " 'ComputerProgramming',\n",
       " 'ElectronicsAndSemicon',\n",
       " 'ComputerScience',\n",
       " 'MechanicalEngg',\n",
       " 'ElectricalEngg',\n",
       " 'TelecomEngg',\n",
       " 'conscientiousness',\n",
       " 'agreeableness',\n",
       " 'extraversion',\n",
       " 'nueroticism',\n",
       " 'openess_to_experience',\n",
       " 'Degree_B.Tech/B.E.',\n",
       " 'Degree_M.Tech./M.E.',\n",
       " 'Gender_f',\n",
       " 'Gender_m',\n",
       " 'Specialization_civil engineering',\n",
       " 'Specialization_computer application',\n",
       " 'Specialization_computer engineering',\n",
       " 'Specialization_computer science & engineering',\n",
       " 'Specialization_electronics & instrumentation eng',\n",
       " 'Specialization_electronics & telecommunications',\n",
       " 'Specialization_electronics and communication engineering',\n",
       " 'Specialization_electronics and instrumentation engineering',\n",
       " 'Specialization_information technology',\n",
       " 'Specialization_mechanical engineering']"
      ]
     },
     "execution_count": 24,
     "metadata": {},
     "output_type": "execute_result"
    }
   ],
   "source": [
    "len(imp_features)\n",
    "imp_features"
   ]
  },
  {
   "cell_type": "code",
   "execution_count": 25,
   "metadata": {
    "scrolled": true
   },
   "outputs": [
    {
     "name": "stdout",
     "output_type": "stream",
     "text": [
      "(3998, 75)\n",
      "(3998, 35)\n"
     ]
    }
   ],
   "source": [
    "print(new_data.shape)\n",
    "print(new_data[imp_features].shape)"
   ]
  },
  {
   "cell_type": "code",
   "execution_count": 26,
   "metadata": {},
   "outputs": [],
   "source": [
    "x=new_data[imp_features].values\n",
    "y=new_data['High-Salary']"
   ]
  },
  {
   "cell_type": "code",
   "execution_count": 27,
   "metadata": {},
   "outputs": [
    {
     "name": "stdout",
     "output_type": "stream",
     "text": [
      "(3998, 35)\n",
      "(3998,)\n"
     ]
    }
   ],
   "source": [
    "print(x.shape)\n",
    "print(y.shape)"
   ]
  },
  {
   "cell_type": "code",
   "execution_count": 28,
   "metadata": {},
   "outputs": [
    {
     "name": "stdout",
     "output_type": "stream",
     "text": [
      "(2398, 35)\n",
      "(1600, 35)\n",
      "(2398,)\n",
      "(1600,)\n"
     ]
    }
   ],
   "source": [
    "#splitting into 60 : 40 train and test data set\n",
    "x_train, x_test, y_train, y_test = train_test_split(x, y, train_size = 0.6, test_size=0.4, random_state=15)\n",
    "\n",
    "print(x_train.shape)\n",
    "print(x_test.shape)\n",
    "\n",
    "print(y_train.shape)\n",
    "print(y_test.shape)"
   ]
  },
  {
   "cell_type": "code",
   "execution_count": 29,
   "metadata": {},
   "outputs": [
    {
     "data": {
      "text/plain": [
       "<AxesSubplot:xlabel='High-Salary', ylabel='count'>"
      ]
     },
     "execution_count": 29,
     "metadata": {},
     "output_type": "execute_result"
    },
    {
     "data": {
      "image/png": "[encoded data removed]",
      "text/plain": [
       "<Figure size 432x288 with 1 Axes>"
      ]
     },
     "metadata": {
      "needs_background": "light"
     },
     "output_type": "display_data"
    }
   ],
   "source": [
    "# distribution of 0 and 1 in training samples\n",
    "\n",
    "sns.countplot(x = y_train, palette = 'Set3')"
   ]
  },
  {
   "cell_type": "code",
   "execution_count": 30,
   "metadata": {},
   "outputs": [
    {
     "data": {
      "text/plain": [
       "<AxesSubplot:xlabel='High-Salary', ylabel='count'>"
      ]
     },
     "execution_count": 30,
     "metadata": {},
     "output_type": "execute_result"
    },
    {
     "data": {
      "image/png": "[encoded data removed]",
      "text/plain": [
       "<Figure size 432x288 with 1 Axes>"
      ]
     },
     "metadata": {
      "needs_background": "light"
     },
     "output_type": "display_data"
    }
   ],
   "source": [
    "# distribution of 0 and 1 in testing samples\n",
    "\n",
    "sns.countplot(x = y_test, palette = 'Set3')"
   ]
  },
  {
   "cell_type": "code",
   "execution_count": 46,
   "metadata": {},
   "outputs": [
    {
     "data": {
      "text/plain": [
       "LogisticRegression(C=0.162378, max_iter=1000, random_state=20,\n",
       "                   solver='liblinear')"
      ]
     },
     "execution_count": 46,
     "metadata": {},
     "output_type": "execute_result"
    }
   ],
   "source": [
    "#training the model\n",
    "log_reg_model = LogisticRegression(random_state=20, solver='liblinear', max_iter=1000 , C= 0.162378)\n",
    "log_reg_model.fit(x_train, y_train)"
   ]
  },
  {
   "cell_type": "code",
   "execution_count": 56,
   "metadata": {},
   "outputs": [],
   "source": [
    "y_pred = log_reg_model.predict(x_test)\n",
    "pred_proba = log_reg_model.predict_proba(x_train)"
   ]
  },
  {
   "cell_type": "code",
   "execution_count": 57,
   "metadata": {},
   "outputs": [
    {
     "data": {
      "text/plain": [
       "array([0, 1, 1, ..., 1, 0, 1], dtype=int64)"
      ]
     },
     "execution_count": 57,
     "metadata": {},
     "output_type": "execute_result"
    }
   ],
   "source": [
    "y_pred"
   ]
  },
  {
   "cell_type": "code",
   "execution_count": 58,
   "metadata": {},
   "outputs": [
    {
     "data": {
      "text/plain": [
       "(1600,)"
      ]
     },
     "execution_count": 58,
     "metadata": {},
     "output_type": "execute_result"
    }
   ],
   "source": [
    "y_pred.shape"
   ]
  },
  {
   "cell_type": "code",
   "execution_count": 59,
   "metadata": {},
   "outputs": [
    {
     "name": "stdout",
     "output_type": "stream",
     "text": [
      "The Training data Accuracy is:  0.7164303586321935\n"
     ]
    }
   ],
   "source": [
    "print(\"The Training data Accuracy is: \", log_reg_model.score(x_train, y_train))"
   ]
  },
  {
   "cell_type": "code",
   "execution_count": 60,
   "metadata": {},
   "outputs": [
    {
     "name": "stdout",
     "output_type": "stream",
     "text": [
      "The testing data Accuracy is:  0.721875\n"
     ]
    }
   ],
   "source": [
    "print(\"The testing data Accuracy is: \", log_reg_model.score(x_test, y_test))"
   ]
  },
  {
   "cell_type": "code",
   "execution_count": 61,
   "metadata": {},
   "outputs": [
    {
     "name": "stdout",
     "output_type": "stream",
     "text": [
      "              precision    recall  f1-score   support\n",
      "\n",
      "           0       0.70      0.68      0.69       728\n",
      "           1       0.74      0.75      0.75       872\n",
      "\n",
      "    accuracy                           0.72      1600\n",
      "   macro avg       0.72      0.72      0.72      1600\n",
      "weighted avg       0.72      0.72      0.72      1600\n",
      "\n"
     ]
    }
   ],
   "source": [
    "#class wise frequency \n",
    "print(classification_report(y_test, y_pred))"
   ]
  },
  {
   "cell_type": "code",
   "execution_count": 62,
   "metadata": {},
   "outputs": [],
   "source": [
    "# Confusion Matrix function\n",
    "\n",
    "def plot_confusion_matrix(cm, classes=None, title='Confusion matrix'):\n",
    "    \"\"\"Plots a confusion matrix.\"\"\"\n",
    "    if classes is not None:\n",
    "        sns.heatmap(cm, cmap=\"YlGnBu\", xticklabels=classes, yticklabels=classes, vmin=0., vmax=1., annot=True, annot_kws={'size':50})\n",
    "    else:\n",
    "        sns.heatmap(cm, vmin=0., vmax=1.)\n",
    "    plt.title(title)\n",
    "    plt.ylabel('True label')\n",
    "    plt.xlabel('Predicted label')"
   ]
  },
  {
   "cell_type": "code",
   "execution_count": 63,
   "metadata": {},
   "outputs": [
    {
     "data": {
      "image/png": "[encoded data removed]",
      "text/plain": [
       "<Figure size 432x288 with 2 Axes>"
      ]
     },
     "metadata": {
      "needs_background": "light"
     },
     "output_type": "display_data"
    }
   ],
   "source": [
    "cm = confusion_matrix(y_test, y_pred)\n",
    "cm_norm = cm / cm.sum(axis=1).reshape(-1,1)\n",
    "\n",
    "plot_confusion_matrix(cm_norm, classes = log_reg_model.classes_, title='Confusion matrix')"
   ]
  },
  {
   "cell_type": "code",
   "execution_count": 64,
   "metadata": {},
   "outputs": [
    {
     "name": "stdout",
     "output_type": "stream",
     "text": [
      "class     accuracy\n",
      " 0      0.6840659340659341\n",
      " 1      0.7534403669724771\n"
     ]
    }
   ],
   "source": [
    "print(\"class     accuracy\")\n",
    "print(\" 0     \",cm_norm[0][0])\n",
    "print(\" 1     \",cm_norm[1][1])"
   ]
  },
  {
   "cell_type": "code",
   "execution_count": 44,
   "metadata": {},
   "outputs": [
    {
     "data": {
      "text/html": [
       "<div>\n",
       "<style scoped>\n",
       "    .dataframe tbody tr th:only-of-type {\n",
       "        vertical-align: middle;\n",
       "    }\n",
       "\n",
       "    .dataframe tbody tr th {\n",
       "        vertical-align: top;\n",
       "    }\n",
       "\n",
       "    .dataframe thead th {\n",
       "        text-align: right;\n",
       "    }\n",
       "</style>\n",
       "<table border=\"1\" class=\"dataframe\">\n",
       "  <thead>\n",
       "    <tr style=\"text-align: right;\">\n",
       "      <th></th>\n",
       "      <th>index</th>\n",
       "      <th>C_List</th>\n",
       "      <th>accuracy</th>\n",
       "    </tr>\n",
       "  </thead>\n",
       "  <tbody>\n",
       "    <tr>\n",
       "      <th>0</th>\n",
       "      <td>8</td>\n",
       "      <td>0.162378</td>\n",
       "      <td>0.724375</td>\n",
       "    </tr>\n",
       "    <tr>\n",
       "      <th>1</th>\n",
       "      <td>7</td>\n",
       "      <td>0.048329</td>\n",
       "      <td>0.721875</td>\n",
       "    </tr>\n",
       "    <tr>\n",
       "      <th>2</th>\n",
       "      <td>10</td>\n",
       "      <td>1.832981</td>\n",
       "      <td>0.720625</td>\n",
       "    </tr>\n",
       "    <tr>\n",
       "      <th>3</th>\n",
       "      <td>4</td>\n",
       "      <td>0.001274</td>\n",
       "      <td>0.720625</td>\n",
       "    </tr>\n",
       "    <tr>\n",
       "      <th>4</th>\n",
       "      <td>16</td>\n",
       "      <td>2636.650899</td>\n",
       "      <td>0.720000</td>\n",
       "    </tr>\n",
       "    <tr>\n",
       "      <th>5</th>\n",
       "      <td>9</td>\n",
       "      <td>0.545559</td>\n",
       "      <td>0.719375</td>\n",
       "    </tr>\n",
       "    <tr>\n",
       "      <th>6</th>\n",
       "      <td>11</td>\n",
       "      <td>6.158482</td>\n",
       "      <td>0.718750</td>\n",
       "    </tr>\n",
       "    <tr>\n",
       "      <th>7</th>\n",
       "      <td>18</td>\n",
       "      <td>29763.514416</td>\n",
       "      <td>0.718125</td>\n",
       "    </tr>\n",
       "    <tr>\n",
       "      <th>8</th>\n",
       "      <td>14</td>\n",
       "      <td>233.572147</td>\n",
       "      <td>0.718125</td>\n",
       "    </tr>\n",
       "    <tr>\n",
       "      <th>9</th>\n",
       "      <td>19</td>\n",
       "      <td>100000.000000</td>\n",
       "      <td>0.717500</td>\n",
       "    </tr>\n",
       "    <tr>\n",
       "      <th>10</th>\n",
       "      <td>6</td>\n",
       "      <td>0.014384</td>\n",
       "      <td>0.716875</td>\n",
       "    </tr>\n",
       "    <tr>\n",
       "      <th>11</th>\n",
       "      <td>13</td>\n",
       "      <td>69.519280</td>\n",
       "      <td>0.716875</td>\n",
       "    </tr>\n",
       "    <tr>\n",
       "      <th>12</th>\n",
       "      <td>5</td>\n",
       "      <td>0.004281</td>\n",
       "      <td>0.716250</td>\n",
       "    </tr>\n",
       "    <tr>\n",
       "      <th>13</th>\n",
       "      <td>15</td>\n",
       "      <td>784.759970</td>\n",
       "      <td>0.716250</td>\n",
       "    </tr>\n",
       "    <tr>\n",
       "      <th>14</th>\n",
       "      <td>17</td>\n",
       "      <td>8858.667904</td>\n",
       "      <td>0.716250</td>\n",
       "    </tr>\n",
       "    <tr>\n",
       "      <th>15</th>\n",
       "      <td>12</td>\n",
       "      <td>20.691381</td>\n",
       "      <td>0.715625</td>\n",
       "    </tr>\n",
       "    <tr>\n",
       "      <th>16</th>\n",
       "      <td>3</td>\n",
       "      <td>0.000379</td>\n",
       "      <td>0.713750</td>\n",
       "    </tr>\n",
       "    <tr>\n",
       "      <th>17</th>\n",
       "      <td>1</td>\n",
       "      <td>0.000034</td>\n",
       "      <td>0.711250</td>\n",
       "    </tr>\n",
       "    <tr>\n",
       "      <th>18</th>\n",
       "      <td>2</td>\n",
       "      <td>0.000113</td>\n",
       "      <td>0.711250</td>\n",
       "    </tr>\n",
       "    <tr>\n",
       "      <th>19</th>\n",
       "      <td>0</td>\n",
       "      <td>0.000010</td>\n",
       "      <td>0.700000</td>\n",
       "    </tr>\n",
       "  </tbody>\n",
       "</table>\n",
       "</div>"
      ],
      "text/plain": [
       "    index         C_List  accuracy\n",
       "0       8       0.162378  0.724375\n",
       "1       7       0.048329  0.721875\n",
       "2      10       1.832981  0.720625\n",
       "3       4       0.001274  0.720625\n",
       "4      16    2636.650899  0.720000\n",
       "5       9       0.545559  0.719375\n",
       "6      11       6.158482  0.718750\n",
       "7      18   29763.514416  0.718125\n",
       "8      14     233.572147  0.718125\n",
       "9      19  100000.000000  0.717500\n",
       "10      6       0.014384  0.716875\n",
       "11     13      69.519280  0.716875\n",
       "12      5       0.004281  0.716250\n",
       "13     15     784.759970  0.716250\n",
       "14     17    8858.667904  0.716250\n",
       "15     12      20.691381  0.715625\n",
       "16      3       0.000379  0.713750\n",
       "17      1       0.000034  0.711250\n",
       "18      2       0.000113  0.711250\n",
       "19      0       0.000010  0.700000"
      ]
     },
     "execution_count": 44,
     "metadata": {},
     "output_type": "execute_result"
    }
   ],
   "source": [
    "#HYPER PARAMETER TUNNING METHOD TO FIND THE GLOBAL MINIMUM AND MINIMIZE THE LOSS\n",
    "C_List = np.geomspace(1e-5, 1e5, num=20)\n",
    "CA = []\n",
    "\n",
    "for c in C_List:\n",
    "    log_reg2 = LogisticRegression(random_state=10, solver = 'liblinear', C=c)\n",
    "    log_reg2.fit(x_train, y_train)\n",
    "    score = log_reg2.score(x_test, y_test)\n",
    "    CA.append(score)\n",
    "    \n",
    "CA2 = np.array(CA).reshape(20,)\n",
    "#zip\n",
    "outcomes = zip(C_List, CA2)\n",
    "#df\n",
    "df_outcomes = pd.DataFrame(outcomes, columns = [\"C_List\", 'accuracy'])\n",
    "#print\n",
    "df_outcomes\n",
    "df_outcomes.sort_values(\"accuracy\", ascending = False).reset_index()"
   ]
  },
  {
   "cell_type": "code",
   "execution_count": null,
   "metadata": {},
   "outputs": [],
   "source": [
    "# splitting data into 70 % and 30 %"
   ]
  },
  {
   "cell_type": "code",
   "execution_count": 65,
   "metadata": {},
   "outputs": [
    {
     "name": "stdout",
     "output_type": "stream",
     "text": [
      "(2798, 35)\n",
      "(1200, 35)\n",
      "(2798,)\n",
      "(1200,)\n"
     ]
    }
   ],
   "source": [
    "x_train2, x_test2, y_train2, y_test2 = train_test_split(x, y, train_size = 0.7, test_size=0.3, random_state=15)\n",
    "\n",
    "\n",
    "print(x_train2.shape)\n",
    "print(x_test2.shape)\n",
    "\n",
    "\n",
    "print(y_train2.shape)\n",
    "print(y_test2.shape)"
   ]
  },
  {
   "cell_type": "code",
   "execution_count": 66,
   "metadata": {},
   "outputs": [
    {
     "data": {
      "text/plain": [
       "<AxesSubplot:xlabel='High-Salary', ylabel='count'>"
      ]
     },
     "execution_count": 66,
     "metadata": {},
     "output_type": "execute_result"
    },
    {
     "data": {
      "image/png": "[encoded data removed]",
      "text/plain": [
       "<Figure size 432x288 with 1 Axes>"
      ]
     },
     "metadata": {
      "needs_background": "light"
     },
     "output_type": "display_data"
    }
   ],
   "source": [
    "sns.countplot(x = y_train2, palette = 'Set1')"
   ]
  },
  {
   "cell_type": "code",
   "execution_count": 67,
   "metadata": {},
   "outputs": [
    {
     "data": {
      "text/plain": [
       "<AxesSubplot:xlabel='High-Salary', ylabel='count'>"
      ]
     },
     "execution_count": 67,
     "metadata": {},
     "output_type": "execute_result"
    },
    {
     "data": {
      "image/png": "[encoded data removed]",
      "text/plain": [
       "<Figure size 432x288 with 1 Axes>"
      ]
     },
     "metadata": {
      "needs_background": "light"
     },
     "output_type": "display_data"
    }
   ],
   "source": [
    "sns.countplot(x = y_test2, palette = 'Set1')"
   ]
  },
  {
   "cell_type": "code",
   "execution_count": 79,
   "metadata": {},
   "outputs": [
    {
     "data": {
      "text/plain": [
       "LogisticRegression(C=0.048329, max_iter=1000, random_state=20,\n",
       "                   solver='liblinear')"
      ]
     },
     "execution_count": 79,
     "metadata": {},
     "output_type": "execute_result"
    }
   ],
   "source": [
    "#training the model\n",
    "log_reg_model2 = LogisticRegression(random_state=20, solver='liblinear', max_iter=1000, C= 0.048329 )\n",
    "log_reg_model2.fit(x_train2, y_train2)"
   ]
  },
  {
   "cell_type": "code",
   "execution_count": 80,
   "metadata": {},
   "outputs": [],
   "source": [
    "y_pred2 = log_reg_model2.predict(x_test2)\n",
    "pred_proba2 = log_reg_model2.predict_proba(x_train2)"
   ]
  },
  {
   "cell_type": "code",
   "execution_count": 81,
   "metadata": {},
   "outputs": [
    {
     "data": {
      "text/plain": [
       "array([0, 1, 1, ..., 0, 1, 0], dtype=int64)"
      ]
     },
     "execution_count": 81,
     "metadata": {},
     "output_type": "execute_result"
    }
   ],
   "source": [
    "y_pred2"
   ]
  },
  {
   "cell_type": "code",
   "execution_count": 82,
   "metadata": {},
   "outputs": [
    {
     "name": "stdout",
     "output_type": "stream",
     "text": [
      "The Training data Accuracy is:  0.7172980700500358\n"
     ]
    }
   ],
   "source": [
    "print(\"The Training data Accuracy is: \", log_reg_model2.score(x_train2, y_train2))"
   ]
  },
  {
   "cell_type": "code",
   "execution_count": 83,
   "metadata": {},
   "outputs": [
    {
     "name": "stdout",
     "output_type": "stream",
     "text": [
      "The testing data Accuracy is:  0.7208333333333333\n"
     ]
    }
   ],
   "source": [
    "print(\"The testing data Accuracy is: \", log_reg_model2.score(x_test2, y_test2))"
   ]
  },
  {
   "cell_type": "code",
   "execution_count": 84,
   "metadata": {},
   "outputs": [
    {
     "name": "stdout",
     "output_type": "stream",
     "text": [
      "              precision    recall  f1-score   support\n",
      "\n",
      "           0       0.71      0.68      0.69       555\n",
      "           1       0.73      0.76      0.74       645\n",
      "\n",
      "    accuracy                           0.72      1200\n",
      "   macro avg       0.72      0.72      0.72      1200\n",
      "weighted avg       0.72      0.72      0.72      1200\n",
      "\n"
     ]
    }
   ],
   "source": [
    "print(classification_report(y_test2, y_pred2))"
   ]
  },
  {
   "cell_type": "code",
   "execution_count": 85,
   "metadata": {},
   "outputs": [
    {
     "data": {
      "image/png": "[encoded data removed]",
      "text/plain": [
       "<Figure size 432x288 with 2 Axes>"
      ]
     },
     "metadata": {
      "needs_background": "light"
     },
     "output_type": "display_data"
    }
   ],
   "source": [
    "#classcification report\n",
    "cm2 = confusion_matrix(y_test2, y_pred2)\n",
    "cm_norm2 = cm2 / cm2.sum(axis=1).reshape(-1,1)\n",
    "\n",
    "plot_confusion_matrix(cm_norm2, classes = log_reg_model2.classes_, title='Confusion matrix')"
   ]
  },
  {
   "cell_type": "code",
   "execution_count": 86,
   "metadata": {},
   "outputs": [
    {
     "name": "stdout",
     "output_type": "stream",
     "text": [
      "class     accuracy\n",
      " 0      0.6810810810810811\n",
      " 1      0.7550387596899225\n"
     ]
    }
   ],
   "source": [
    "print(\"class     accuracy\")\n",
    "print(\" 0     \",cm_norm2[0][0])\n",
    "print(\" 1     \",cm_norm2[1][1])"
   ]
  },
  {
   "cell_type": "code",
   "execution_count": 77,
   "metadata": {},
   "outputs": [
    {
     "data": {
      "text/html": [
       "<div>\n",
       "<style scoped>\n",
       "    .dataframe tbody tr th:only-of-type {\n",
       "        vertical-align: middle;\n",
       "    }\n",
       "\n",
       "    .dataframe tbody tr th {\n",
       "        vertical-align: top;\n",
       "    }\n",
       "\n",
       "    .dataframe thead th {\n",
       "        text-align: right;\n",
       "    }\n",
       "</style>\n",
       "<table border=\"1\" class=\"dataframe\">\n",
       "  <thead>\n",
       "    <tr style=\"text-align: right;\">\n",
       "      <th></th>\n",
       "      <th>index</th>\n",
       "      <th>C_List</th>\n",
       "      <th>accuracy</th>\n",
       "    </tr>\n",
       "  </thead>\n",
       "  <tbody>\n",
       "    <tr>\n",
       "      <th>0</th>\n",
       "      <td>7</td>\n",
       "      <td>0.048329</td>\n",
       "      <td>0.720833</td>\n",
       "    </tr>\n",
       "    <tr>\n",
       "      <th>1</th>\n",
       "      <td>6</td>\n",
       "      <td>0.014384</td>\n",
       "      <td>0.719167</td>\n",
       "    </tr>\n",
       "    <tr>\n",
       "      <th>2</th>\n",
       "      <td>8</td>\n",
       "      <td>0.162378</td>\n",
       "      <td>0.718333</td>\n",
       "    </tr>\n",
       "    <tr>\n",
       "      <th>3</th>\n",
       "      <td>4</td>\n",
       "      <td>0.001274</td>\n",
       "      <td>0.715000</td>\n",
       "    </tr>\n",
       "    <tr>\n",
       "      <th>4</th>\n",
       "      <td>13</td>\n",
       "      <td>69.519280</td>\n",
       "      <td>0.714167</td>\n",
       "    </tr>\n",
       "    <tr>\n",
       "      <th>5</th>\n",
       "      <td>3</td>\n",
       "      <td>0.000379</td>\n",
       "      <td>0.713333</td>\n",
       "    </tr>\n",
       "    <tr>\n",
       "      <th>6</th>\n",
       "      <td>11</td>\n",
       "      <td>6.158482</td>\n",
       "      <td>0.712500</td>\n",
       "    </tr>\n",
       "    <tr>\n",
       "      <th>7</th>\n",
       "      <td>2</td>\n",
       "      <td>0.000113</td>\n",
       "      <td>0.712500</td>\n",
       "    </tr>\n",
       "    <tr>\n",
       "      <th>8</th>\n",
       "      <td>17</td>\n",
       "      <td>8858.667904</td>\n",
       "      <td>0.712500</td>\n",
       "    </tr>\n",
       "    <tr>\n",
       "      <th>9</th>\n",
       "      <td>9</td>\n",
       "      <td>0.545559</td>\n",
       "      <td>0.710833</td>\n",
       "    </tr>\n",
       "    <tr>\n",
       "      <th>10</th>\n",
       "      <td>12</td>\n",
       "      <td>20.691381</td>\n",
       "      <td>0.710000</td>\n",
       "    </tr>\n",
       "    <tr>\n",
       "      <th>11</th>\n",
       "      <td>10</td>\n",
       "      <td>1.832981</td>\n",
       "      <td>0.710000</td>\n",
       "    </tr>\n",
       "    <tr>\n",
       "      <th>12</th>\n",
       "      <td>5</td>\n",
       "      <td>0.004281</td>\n",
       "      <td>0.709167</td>\n",
       "    </tr>\n",
       "    <tr>\n",
       "      <th>13</th>\n",
       "      <td>14</td>\n",
       "      <td>233.572147</td>\n",
       "      <td>0.709167</td>\n",
       "    </tr>\n",
       "    <tr>\n",
       "      <th>14</th>\n",
       "      <td>15</td>\n",
       "      <td>784.759970</td>\n",
       "      <td>0.709167</td>\n",
       "    </tr>\n",
       "    <tr>\n",
       "      <th>15</th>\n",
       "      <td>16</td>\n",
       "      <td>2636.650899</td>\n",
       "      <td>0.709167</td>\n",
       "    </tr>\n",
       "    <tr>\n",
       "      <th>16</th>\n",
       "      <td>18</td>\n",
       "      <td>29763.514416</td>\n",
       "      <td>0.708333</td>\n",
       "    </tr>\n",
       "    <tr>\n",
       "      <th>17</th>\n",
       "      <td>19</td>\n",
       "      <td>100000.000000</td>\n",
       "      <td>0.708333</td>\n",
       "    </tr>\n",
       "    <tr>\n",
       "      <th>18</th>\n",
       "      <td>1</td>\n",
       "      <td>0.000034</td>\n",
       "      <td>0.708333</td>\n",
       "    </tr>\n",
       "    <tr>\n",
       "      <th>19</th>\n",
       "      <td>0</td>\n",
       "      <td>0.000010</td>\n",
       "      <td>0.699167</td>\n",
       "    </tr>\n",
       "  </tbody>\n",
       "</table>\n",
       "</div>"
      ],
      "text/plain": [
       "    index         C_List  accuracy\n",
       "0       7       0.048329  0.720833\n",
       "1       6       0.014384  0.719167\n",
       "2       8       0.162378  0.718333\n",
       "3       4       0.001274  0.715000\n",
       "4      13      69.519280  0.714167\n",
       "5       3       0.000379  0.713333\n",
       "6      11       6.158482  0.712500\n",
       "7       2       0.000113  0.712500\n",
       "8      17    8858.667904  0.712500\n",
       "9       9       0.545559  0.710833\n",
       "10     12      20.691381  0.710000\n",
       "11     10       1.832981  0.710000\n",
       "12      5       0.004281  0.709167\n",
       "13     14     233.572147  0.709167\n",
       "14     15     784.759970  0.709167\n",
       "15     16    2636.650899  0.709167\n",
       "16     18   29763.514416  0.708333\n",
       "17     19  100000.000000  0.708333\n",
       "18      1       0.000034  0.708333\n",
       "19      0       0.000010  0.699167"
      ]
     },
     "execution_count": 77,
     "metadata": {},
     "output_type": "execute_result"
    }
   ],
   "source": [
    "#HYPER PARAMETER TUNNING METHOD TO FIND THE GLOBAL MINIMUM AND MINIMIZE THE LOSS\n",
    "C_List = np.geomspace(1e-5, 1e5, num=20)\n",
    "CA = []\n",
    "\n",
    "for c in C_List:\n",
    "    log_reg2 = LogisticRegression(random_state=10, solver = 'liblinear', C=c)\n",
    "    log_reg2.fit(x_train2, y_train2)\n",
    "    score = log_reg2.score(x_test2, y_test2)\n",
    "    CA.append(score)\n",
    "    \n",
    "CA2 = np.array(CA).reshape(20,)\n",
    "#zip\n",
    "outcomes = zip(C_List, CA2)\n",
    "#df\n",
    "df_outcomes = pd.DataFrame(outcomes, columns = [\"C_List\", 'accuracy'])\n",
    "#print\n",
    "df_outcomes\n",
    "df_outcomes.sort_values(\"accuracy\", ascending = False).reset_index()"
   ]
  },
  {
   "cell_type": "code",
   "execution_count": 56,
   "metadata": {},
   "outputs": [],
   "source": [
    "#splitting the data into 80% and 20%"
   ]
  },
  {
   "cell_type": "code",
   "execution_count": 87,
   "metadata": {},
   "outputs": [
    {
     "name": "stdout",
     "output_type": "stream",
     "text": [
      "(3198, 35)\n",
      "(800, 35)\n",
      "(3198,)\n",
      "(800,)\n"
     ]
    }
   ],
   "source": [
    "x_train3, x_test3, y_train3, y_test3 = train_test_split(x, y, train_size = 0.8, test_size=0.2, random_state=15)\n",
    "\n",
    "print(x_train3.shape)\n",
    "print(x_test3.shape)\n",
    "\n",
    "print(y_train3.shape)\n",
    "print(y_test3.shape)"
   ]
  },
  {
   "cell_type": "code",
   "execution_count": 88,
   "metadata": {},
   "outputs": [
    {
     "data": {
      "text/plain": [
       "<AxesSubplot:xlabel='High-Salary', ylabel='count'>"
      ]
     },
     "execution_count": 88,
     "metadata": {},
     "output_type": "execute_result"
    },
    {
     "data": {
      "image/png": "[encoded data removed]",
      "text/plain": [
       "<Figure size 432x288 with 1 Axes>"
      ]
     },
     "metadata": {
      "needs_background": "light"
     },
     "output_type": "display_data"
    }
   ],
   "source": [
    "sns.countplot(x = y_train3, palette = 'Set1')"
   ]
  },
  {
   "cell_type": "code",
   "execution_count": 97,
   "metadata": {},
   "outputs": [
    {
     "data": {
      "text/plain": [
       "LogisticRegression(C=0.001274, max_iter=1000, random_state=20,\n",
       "                   solver='liblinear')"
      ]
     },
     "execution_count": 97,
     "metadata": {},
     "output_type": "execute_result"
    }
   ],
   "source": [
    "#training the model\n",
    "log_reg_model3 = LogisticRegression(random_state=20, solver='liblinear', max_iter=1000 , C=0.001274 )\n",
    "log_reg_model3.fit(x_train3, y_train3)"
   ]
  },
  {
   "cell_type": "code",
   "execution_count": 98,
   "metadata": {},
   "outputs": [],
   "source": [
    "y_pred3 = log_reg_model3.predict(x_test3)"
   ]
  },
  {
   "cell_type": "code",
   "execution_count": 99,
   "metadata": {},
   "outputs": [
    {
     "name": "stdout",
     "output_type": "stream",
     "text": [
      "The Training data Accuracy is:  0.7091932457786116\n"
     ]
    }
   ],
   "source": [
    "print(\"The Training data Accuracy is: \", log_reg_model3.score(x_train3, y_train3))"
   ]
  },
  {
   "cell_type": "code",
   "execution_count": 100,
   "metadata": {},
   "outputs": [
    {
     "name": "stdout",
     "output_type": "stream",
     "text": [
      "The testing data Accuracy is:  0.73375\n"
     ]
    }
   ],
   "source": [
    "print(\"The testing data Accuracy is: \", log_reg_model3.score(x_test3, y_test3))"
   ]
  },
  {
   "cell_type": "code",
   "execution_count": 101,
   "metadata": {},
   "outputs": [
    {
     "data": {
      "image/png": "[encoded data removed]",
      "text/plain": [
       "<Figure size 432x288 with 2 Axes>"
      ]
     },
     "metadata": {
      "needs_background": "light"
     },
     "output_type": "display_data"
    }
   ],
   "source": [
    "cm3 = confusion_matrix(y_test3, y_pred3)\n",
    "cm_norm3 = cm3 / cm3.sum(axis=1).reshape(-1,1)\n",
    "\n",
    "plot_confusion_matrix(cm_norm3, classes = log_reg_model3.classes_, title='Confusion matrix')"
   ]
  },
  {
   "cell_type": "code",
   "execution_count": 102,
   "metadata": {},
   "outputs": [
    {
     "name": "stdout",
     "output_type": "stream",
     "text": [
      "class     accuracy\n",
      " 0      0.6923076923076923\n",
      " 1      0.7661469933184856\n"
     ]
    }
   ],
   "source": [
    "print(\"class     accuracy\")\n",
    "print(\" 0     \",cm_norm3[0][0])\n",
    "print(\" 1     \",cm_norm3[1][1])"
   ]
  },
  {
   "cell_type": "code",
   "execution_count": 96,
   "metadata": {},
   "outputs": [
    {
     "data": {
      "text/html": [
       "<div>\n",
       "<style scoped>\n",
       "    .dataframe tbody tr th:only-of-type {\n",
       "        vertical-align: middle;\n",
       "    }\n",
       "\n",
       "    .dataframe tbody tr th {\n",
       "        vertical-align: top;\n",
       "    }\n",
       "\n",
       "    .dataframe thead th {\n",
       "        text-align: right;\n",
       "    }\n",
       "</style>\n",
       "<table border=\"1\" class=\"dataframe\">\n",
       "  <thead>\n",
       "    <tr style=\"text-align: right;\">\n",
       "      <th></th>\n",
       "      <th>index</th>\n",
       "      <th>C_List</th>\n",
       "      <th>accuracy</th>\n",
       "    </tr>\n",
       "  </thead>\n",
       "  <tbody>\n",
       "    <tr>\n",
       "      <th>0</th>\n",
       "      <td>4</td>\n",
       "      <td>0.001274</td>\n",
       "      <td>0.73375</td>\n",
       "    </tr>\n",
       "    <tr>\n",
       "      <th>1</th>\n",
       "      <td>3</td>\n",
       "      <td>0.000379</td>\n",
       "      <td>0.73125</td>\n",
       "    </tr>\n",
       "    <tr>\n",
       "      <th>2</th>\n",
       "      <td>17</td>\n",
       "      <td>8858.667904</td>\n",
       "      <td>0.73125</td>\n",
       "    </tr>\n",
       "    <tr>\n",
       "      <th>3</th>\n",
       "      <td>15</td>\n",
       "      <td>784.759970</td>\n",
       "      <td>0.73125</td>\n",
       "    </tr>\n",
       "    <tr>\n",
       "      <th>4</th>\n",
       "      <td>11</td>\n",
       "      <td>6.158482</td>\n",
       "      <td>0.73125</td>\n",
       "    </tr>\n",
       "    <tr>\n",
       "      <th>5</th>\n",
       "      <td>12</td>\n",
       "      <td>20.691381</td>\n",
       "      <td>0.73125</td>\n",
       "    </tr>\n",
       "    <tr>\n",
       "      <th>6</th>\n",
       "      <td>10</td>\n",
       "      <td>1.832981</td>\n",
       "      <td>0.73000</td>\n",
       "    </tr>\n",
       "    <tr>\n",
       "      <th>7</th>\n",
       "      <td>18</td>\n",
       "      <td>29763.514416</td>\n",
       "      <td>0.73000</td>\n",
       "    </tr>\n",
       "    <tr>\n",
       "      <th>8</th>\n",
       "      <td>5</td>\n",
       "      <td>0.004281</td>\n",
       "      <td>0.73000</td>\n",
       "    </tr>\n",
       "    <tr>\n",
       "      <th>9</th>\n",
       "      <td>6</td>\n",
       "      <td>0.014384</td>\n",
       "      <td>0.73000</td>\n",
       "    </tr>\n",
       "    <tr>\n",
       "      <th>10</th>\n",
       "      <td>7</td>\n",
       "      <td>0.048329</td>\n",
       "      <td>0.73000</td>\n",
       "    </tr>\n",
       "    <tr>\n",
       "      <th>11</th>\n",
       "      <td>16</td>\n",
       "      <td>2636.650899</td>\n",
       "      <td>0.73000</td>\n",
       "    </tr>\n",
       "    <tr>\n",
       "      <th>12</th>\n",
       "      <td>13</td>\n",
       "      <td>69.519280</td>\n",
       "      <td>0.73000</td>\n",
       "    </tr>\n",
       "    <tr>\n",
       "      <th>13</th>\n",
       "      <td>14</td>\n",
       "      <td>233.572147</td>\n",
       "      <td>0.72875</td>\n",
       "    </tr>\n",
       "    <tr>\n",
       "      <th>14</th>\n",
       "      <td>19</td>\n",
       "      <td>100000.000000</td>\n",
       "      <td>0.72875</td>\n",
       "    </tr>\n",
       "    <tr>\n",
       "      <th>15</th>\n",
       "      <td>9</td>\n",
       "      <td>0.545559</td>\n",
       "      <td>0.72875</td>\n",
       "    </tr>\n",
       "    <tr>\n",
       "      <th>16</th>\n",
       "      <td>8</td>\n",
       "      <td>0.162378</td>\n",
       "      <td>0.72875</td>\n",
       "    </tr>\n",
       "    <tr>\n",
       "      <th>17</th>\n",
       "      <td>2</td>\n",
       "      <td>0.000113</td>\n",
       "      <td>0.72750</td>\n",
       "    </tr>\n",
       "    <tr>\n",
       "      <th>18</th>\n",
       "      <td>1</td>\n",
       "      <td>0.000034</td>\n",
       "      <td>0.72000</td>\n",
       "    </tr>\n",
       "    <tr>\n",
       "      <th>19</th>\n",
       "      <td>0</td>\n",
       "      <td>0.000010</td>\n",
       "      <td>0.71750</td>\n",
       "    </tr>\n",
       "  </tbody>\n",
       "</table>\n",
       "</div>"
      ],
      "text/plain": [
       "    index         C_List  accuracy\n",
       "0       4       0.001274   0.73375\n",
       "1       3       0.000379   0.73125\n",
       "2      17    8858.667904   0.73125\n",
       "3      15     784.759970   0.73125\n",
       "4      11       6.158482   0.73125\n",
       "5      12      20.691381   0.73125\n",
       "6      10       1.832981   0.73000\n",
       "7      18   29763.514416   0.73000\n",
       "8       5       0.004281   0.73000\n",
       "9       6       0.014384   0.73000\n",
       "10      7       0.048329   0.73000\n",
       "11     16    2636.650899   0.73000\n",
       "12     13      69.519280   0.73000\n",
       "13     14     233.572147   0.72875\n",
       "14     19  100000.000000   0.72875\n",
       "15      9       0.545559   0.72875\n",
       "16      8       0.162378   0.72875\n",
       "17      2       0.000113   0.72750\n",
       "18      1       0.000034   0.72000\n",
       "19      0       0.000010   0.71750"
      ]
     },
     "execution_count": 96,
     "metadata": {},
     "output_type": "execute_result"
    }
   ],
   "source": [
    "#HYPER PARAMETER TUNNING METHOD TO FIND THE GLOBAL MINIMUM AND MINIMIZE THE LOSS\n",
    "C_List = np.geomspace(1e-5, 1e5, num=20)\n",
    "CA = []\n",
    "\n",
    "for c in C_List:\n",
    "    log_reg2 = LogisticRegression(random_state=10, solver = 'liblinear', C=c)\n",
    "    log_reg2.fit(x_train3, y_train3)\n",
    "    score = log_reg2.score(x_test3, y_test3)\n",
    "    CA.append(score)\n",
    "    \n",
    "CA2 = np.array(CA).reshape(20,)\n",
    "#zip\n",
    "outcomes = zip(C_List, CA2)\n",
    "#df\n",
    "df_outcomes = pd.DataFrame(outcomes, columns = [\"C_List\", 'accuracy'])\n",
    "#print\n",
    "df_outcomes\n",
    "df_outcomes.sort_values(\"accuracy\", ascending = False).reset_index()"
   ]
  },
  {
   "cell_type": "code",
   "execution_count": 64,
   "metadata": {},
   "outputs": [],
   "source": [
    "#splitting the data into 90% and 10%"
   ]
  },
  {
   "cell_type": "code",
   "execution_count": 103,
   "metadata": {},
   "outputs": [
    {
     "name": "stdout",
     "output_type": "stream",
     "text": [
      "(3598, 35)\n",
      "(400, 35)\n",
      "(3598,)\n",
      "(400,)\n"
     ]
    }
   ],
   "source": [
    "x_train4, x_test4, y_train4, y_test4 = train_test_split(x, y, train_size = 0.9, test_size=0.1, random_state=15)\n",
    "\n",
    "print(x_train4.shape)\n",
    "print(x_test4.shape)\n",
    "\n",
    "print(y_train4.shape)\n",
    "print(y_test4.shape)"
   ]
  },
  {
   "cell_type": "code",
   "execution_count": 104,
   "metadata": {},
   "outputs": [
    {
     "data": {
      "text/plain": [
       "<AxesSubplot:xlabel='High-Salary', ylabel='count'>"
      ]
     },
     "execution_count": 104,
     "metadata": {},
     "output_type": "execute_result"
    },
    {
     "data": {
      "image/png": "[encoded data removed]",
      "text/plain": [
       "<Figure size 432x288 with 1 Axes>"
      ]
     },
     "metadata": {
      "needs_background": "light"
     },
     "output_type": "display_data"
    }
   ],
   "source": [
    "sns.countplot(x = y_train4, palette = 'Set1')"
   ]
  },
  {
   "cell_type": "code",
   "execution_count": 115,
   "metadata": {},
   "outputs": [
    {
     "data": {
      "text/plain": [
       "LogisticRegression(C=0.001274, max_iter=1000, random_state=20,\n",
       "                   solver='liblinear')"
      ]
     },
     "execution_count": 115,
     "metadata": {},
     "output_type": "execute_result"
    }
   ],
   "source": [
    "#training the model\n",
    "log_reg_model4 = LogisticRegression(random_state=20, solver='liblinear', max_iter=1000 ,C=0.001274)\n",
    "log_reg_model4.fit(x_train4, y_train4)"
   ]
  },
  {
   "cell_type": "code",
   "execution_count": 116,
   "metadata": {},
   "outputs": [],
   "source": [
    "y_pred4 = log_reg_model4.predict(x_test4)"
   ]
  },
  {
   "cell_type": "code",
   "execution_count": 117,
   "metadata": {},
   "outputs": [
    {
     "name": "stdout",
     "output_type": "stream",
     "text": [
      "The Training data Accuracy is:  0.7112284602556976\n"
     ]
    }
   ],
   "source": [
    "print(\"The Training data Accuracy is: \", log_reg_model4.score(x_train4, y_train4))"
   ]
  },
  {
   "cell_type": "code",
   "execution_count": 118,
   "metadata": {},
   "outputs": [
    {
     "name": "stdout",
     "output_type": "stream",
     "text": [
      "The testing data Accuracy is:  0.7425\n"
     ]
    }
   ],
   "source": [
    "print(\"The testing data Accuracy is: \", log_reg_model4.score(x_test4, y_test4))"
   ]
  },
  {
   "cell_type": "code",
   "execution_count": 119,
   "metadata": {},
   "outputs": [
    {
     "data": {
      "image/png": "[encoded data removed]",
      "text/plain": [
       "<Figure size 432x288 with 2 Axes>"
      ]
     },
     "metadata": {
      "needs_background": "light"
     },
     "output_type": "display_data"
    }
   ],
   "source": [
    "cm4 = confusion_matrix(y_test4, y_pred4)\n",
    "cm_norm4 = cm4 / cm4.sum(axis=1).reshape(-1,1)\n",
    "\n",
    "plot_confusion_matrix(cm_norm4, classes = log_reg_model4.classes_, title='Confusion matrix')"
   ]
  },
  {
   "cell_type": "code",
   "execution_count": 121,
   "metadata": {},
   "outputs": [
    {
     "name": "stdout",
     "output_type": "stream",
     "text": [
      "class     accuracy\n",
      " 0      0.7272727272727273\n",
      " 1      0.7544642857142857\n"
     ]
    }
   ],
   "source": [
    "print(\"class     accuracy\")\n",
    "print(\" 0     \",cm_norm4[0][0])\n",
    "print(\" 1     \",cm_norm4[1][1])"
   ]
  },
  {
   "cell_type": "code",
   "execution_count": 114,
   "metadata": {},
   "outputs": [
    {
     "data": {
      "text/html": [
       "<div>\n",
       "<style scoped>\n",
       "    .dataframe tbody tr th:only-of-type {\n",
       "        vertical-align: middle;\n",
       "    }\n",
       "\n",
       "    .dataframe tbody tr th {\n",
       "        vertical-align: top;\n",
       "    }\n",
       "\n",
       "    .dataframe thead th {\n",
       "        text-align: right;\n",
       "    }\n",
       "</style>\n",
       "<table border=\"1\" class=\"dataframe\">\n",
       "  <thead>\n",
       "    <tr style=\"text-align: right;\">\n",
       "      <th></th>\n",
       "      <th>index</th>\n",
       "      <th>C_List</th>\n",
       "      <th>accuracy</th>\n",
       "    </tr>\n",
       "  </thead>\n",
       "  <tbody>\n",
       "    <tr>\n",
       "      <th>0</th>\n",
       "      <td>4</td>\n",
       "      <td>0.001274</td>\n",
       "      <td>0.7450</td>\n",
       "    </tr>\n",
       "    <tr>\n",
       "      <th>1</th>\n",
       "      <td>2</td>\n",
       "      <td>0.000113</td>\n",
       "      <td>0.7425</td>\n",
       "    </tr>\n",
       "    <tr>\n",
       "      <th>2</th>\n",
       "      <td>3</td>\n",
       "      <td>0.000379</td>\n",
       "      <td>0.7400</td>\n",
       "    </tr>\n",
       "    <tr>\n",
       "      <th>3</th>\n",
       "      <td>5</td>\n",
       "      <td>0.004281</td>\n",
       "      <td>0.7375</td>\n",
       "    </tr>\n",
       "    <tr>\n",
       "      <th>4</th>\n",
       "      <td>6</td>\n",
       "      <td>0.014384</td>\n",
       "      <td>0.7350</td>\n",
       "    </tr>\n",
       "    <tr>\n",
       "      <th>5</th>\n",
       "      <td>1</td>\n",
       "      <td>0.000034</td>\n",
       "      <td>0.7350</td>\n",
       "    </tr>\n",
       "    <tr>\n",
       "      <th>6</th>\n",
       "      <td>10</td>\n",
       "      <td>1.832981</td>\n",
       "      <td>0.7300</td>\n",
       "    </tr>\n",
       "    <tr>\n",
       "      <th>7</th>\n",
       "      <td>7</td>\n",
       "      <td>0.048329</td>\n",
       "      <td>0.7300</td>\n",
       "    </tr>\n",
       "    <tr>\n",
       "      <th>8</th>\n",
       "      <td>15</td>\n",
       "      <td>784.759970</td>\n",
       "      <td>0.7300</td>\n",
       "    </tr>\n",
       "    <tr>\n",
       "      <th>9</th>\n",
       "      <td>13</td>\n",
       "      <td>69.519280</td>\n",
       "      <td>0.7275</td>\n",
       "    </tr>\n",
       "    <tr>\n",
       "      <th>10</th>\n",
       "      <td>16</td>\n",
       "      <td>2636.650899</td>\n",
       "      <td>0.7275</td>\n",
       "    </tr>\n",
       "    <tr>\n",
       "      <th>11</th>\n",
       "      <td>14</td>\n",
       "      <td>233.572147</td>\n",
       "      <td>0.7275</td>\n",
       "    </tr>\n",
       "    <tr>\n",
       "      <th>12</th>\n",
       "      <td>19</td>\n",
       "      <td>100000.000000</td>\n",
       "      <td>0.7275</td>\n",
       "    </tr>\n",
       "    <tr>\n",
       "      <th>13</th>\n",
       "      <td>12</td>\n",
       "      <td>20.691381</td>\n",
       "      <td>0.7275</td>\n",
       "    </tr>\n",
       "    <tr>\n",
       "      <th>14</th>\n",
       "      <td>11</td>\n",
       "      <td>6.158482</td>\n",
       "      <td>0.7275</td>\n",
       "    </tr>\n",
       "    <tr>\n",
       "      <th>15</th>\n",
       "      <td>9</td>\n",
       "      <td>0.545559</td>\n",
       "      <td>0.7250</td>\n",
       "    </tr>\n",
       "    <tr>\n",
       "      <th>16</th>\n",
       "      <td>8</td>\n",
       "      <td>0.162378</td>\n",
       "      <td>0.7250</td>\n",
       "    </tr>\n",
       "    <tr>\n",
       "      <th>17</th>\n",
       "      <td>18</td>\n",
       "      <td>29763.514416</td>\n",
       "      <td>0.7250</td>\n",
       "    </tr>\n",
       "    <tr>\n",
       "      <th>18</th>\n",
       "      <td>17</td>\n",
       "      <td>8858.667904</td>\n",
       "      <td>0.7200</td>\n",
       "    </tr>\n",
       "    <tr>\n",
       "      <th>19</th>\n",
       "      <td>0</td>\n",
       "      <td>0.000010</td>\n",
       "      <td>0.7200</td>\n",
       "    </tr>\n",
       "  </tbody>\n",
       "</table>\n",
       "</div>"
      ],
      "text/plain": [
       "    index         C_List  accuracy\n",
       "0       4       0.001274    0.7450\n",
       "1       2       0.000113    0.7425\n",
       "2       3       0.000379    0.7400\n",
       "3       5       0.004281    0.7375\n",
       "4       6       0.014384    0.7350\n",
       "5       1       0.000034    0.7350\n",
       "6      10       1.832981    0.7300\n",
       "7       7       0.048329    0.7300\n",
       "8      15     784.759970    0.7300\n",
       "9      13      69.519280    0.7275\n",
       "10     16    2636.650899    0.7275\n",
       "11     14     233.572147    0.7275\n",
       "12     19  100000.000000    0.7275\n",
       "13     12      20.691381    0.7275\n",
       "14     11       6.158482    0.7275\n",
       "15      9       0.545559    0.7250\n",
       "16      8       0.162378    0.7250\n",
       "17     18   29763.514416    0.7250\n",
       "18     17    8858.667904    0.7200\n",
       "19      0       0.000010    0.7200"
      ]
     },
     "execution_count": 114,
     "metadata": {},
     "output_type": "execute_result"
    }
   ],
   "source": [
    "#HYPER PARAMETER TUNNING METHOD TO FIND THE GLOBAL MINIMUM AND MINIMIZE THE LOSS\n",
    "C_List = np.geomspace(1e-5, 1e5, num=20)\n",
    "CA = []\n",
    "\n",
    "for c in C_List:\n",
    "    log_reg2 = LogisticRegression(random_state=10, solver = 'liblinear', C=c)\n",
    "    log_reg2.fit(x_train4, y_train4)\n",
    "    score = log_reg2.score(x_test4, y_test4)\n",
    "    CA.append(score)\n",
    "    \n",
    "CA2 = np.array(CA).reshape(20,)\n",
    "#zip\n",
    "outcomes = zip(C_List, CA2)\n",
    "#df\n",
    "df_outcomes = pd.DataFrame(outcomes, columns = [\"C_List\", 'accuracy'])\n",
    "#print\n",
    "df_outcomes\n",
    "df_outcomes.sort_values(\"accuracy\", ascending = False).reset_index()"
   ]
  },
  {
   "cell_type": "code",
   "execution_count": null,
   "metadata": {},
   "outputs": [],
   "source": [
    "#THE END"
   ]
  }
 ],
 "metadata": {
  "kernelspec": {
   "display_name": "Python 3",
   "language": "python",
   "name": "python3"
  },
  "language_info": {
   "codemirror_mode": {
    "name": "ipython",
    "version": 3
   },
   "file_extension": ".py",
   "mimetype": "text/x-python",
   "name": "python",
   "nbconvert_exporter": "python",
   "pygments_lexer": "ipython3",
   "version": "3.8.5"
  }
 },
 "nbformat": 4,
 "nbformat_minor": 4
}
